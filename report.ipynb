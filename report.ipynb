{
 "cells": [
  {
   "cell_type": "markdown",
   "metadata": {},
   "source": [
    "<h1>Prebivalstvo Slovenije - PR2020TMJDLK</h1>"
   ]
  },
  {
   "cell_type": "markdown",
   "metadata": {},
   "source": [
    "<h2>Avtorji</h2> \n",
    "<ul><li>Tilen Močnik</li>\n",
    "    <li>Jan Debelak</li>\n",
    "    <li>Lukas Kranjc</li></ul>"
   ]
  },
  {
   "cell_type": "markdown",
   "metadata": {},
   "source": [
    "<h2>Uvod in predstavitev podatkov</h2>"
   ]
  },
  {
   "cell_type": "markdown",
   "metadata": {},
   "source": [
    "Za seminarsko nalogo smo si izbrali temo \"Prebivalstvo Slovenije\". Iz podatkov smo poskušali ugotoviti predvsem v katerih občinah prebivalstvo pada/narašča, kaj povzroči padanje/naraščanje prebivalstva, kakšna je sestava prebivalstva glede na izobrazbo ipd. Podatke smo pridobili na spletnem portalu OPSI(https://podatki.gov.si/). Za našo seminarsko nalogo smo pridobili naslednje podatke:\n",
    "<ul><li>Podatki o številu prebivalcev po posameznih občinah med leti 1995-2018</li>\n",
    "    <li>Podatki, ki za posamezno občino določajo indeks glede na št.zaposlenih/št.vseh prebivalcev</li>\n",
    "    <li>Podatki o sestavi prebivalstva glede na izobrazbo po posameznih občinah</li></ul>\n",
    "Za nekatere od zgoraj naštetih podatkov smo imeli na voljo celo več tabel, vendar smo med samim pregledom določili, katere podatkovne tabele vsebujejo za naš projekt primernejše podatke, tako po vsebini, kakor tudi po sami obliki zapisa. Vse izbrane tabele podatkov smo nato temeljito prečistili, ter spravili v primerno obliko za nadaljno obdelavo. Nekaj težav smo imeli z šumniki, vendar smo težavo odpravili z uporabo pravilnega kodiranja(UTF-8). Kljub pretvorbi podatkov v kodiranje primerno za šumnike, pa smo bili v nekaterih tabelah primorani spreminjati imena občin ročno."
   ]
  },
  {
   "cell_type": "markdown",
   "metadata": {},
   "source": [
    "<h2>Hipoteze in ugotovitve</h2>"
   ]
  },
  {
   "cell_type": "markdown",
   "metadata": {},
   "source": [
    "<p><b><h3>1. Hipoteza: </h3></b> Prebivalstvo v Sloveniji narašča.</p>\n",
    "<p><b>Ugotovitve:</b></p> Prebivalstvo po večini res narašča, vendar pa je to zgolj zaradi priselitev. Če ignoriramo priselitve, lahko iz spodnjega grafa razberemo, da prebivalstvo ne narašča, temveč je dokaj stabilno. Nenavadno rast med leti 2007 in 2008 pa bomo obravnavali v nadaljevanju."
   ]
  },
  {
   "cell_type": "markdown",
   "metadata": {},
   "source": [
    "![](./Graphs/naravnaPrirast-Priseljevanje.png)"
   ]
  },
  {
   "cell_type": "markdown",
   "metadata": {},
   "source": [
    "<p><b><h3>Zakaj je bila med leti 2007 do 2009 velika rast priseljencev? </h3></b> Veliko število priselitev leta med navedenimi leti je po naših raziskavah bila posledice hude gospodarske krize, ki je dosegla vrh prav v letu 2008. Na spodnjem grafu imamo prikaz razporeditev občin glede na rast prebivalstva za leti 2007 in 2008.</p>"
   ]
  },
  {
   "cell_type": "markdown",
   "metadata": {},
   "source": [
    "<img src=\"./Graphs/rast2007-2008.png\" />"
   ]
  },
  {
   "cell_type": "markdown",
   "metadata": {},
   "source": [
    "<p><b><h3>2. Hipoteza (podatki za leto 2007): </h3></b>Prebivalstvo po večini občin pada. Mogoče se na prvi pogled zdi da je bila naša hipoteza na tem mestu nenavadna, glede na našem mnenju da prebivalstvo v Sloveniji narašča. Vendar pa ta hipoteza temelji na tem da smo domnevali da se ljudje iz manjših občin selijo v mesta.</p>\n",
    "<p><b>Ugotovitve:</b></p> Naša hipoteza je bila napačna. V večini občin je število prebivalcev stabilno, sicer pa po večini narašča. Iz grafa lahko opazimo tudi dve velika odstopanji. To sta občini Zavrč ,kjer število prebivalcev upada najhitreje, in občina Štore, kjer število prebivalcev nenavadno hitro narašča. Obe občini bomo natančneje primerjali v nadaljevnaju."
   ]
  },
  {
   "cell_type": "markdown",
   "metadata": {},
   "source": [
    "<img src=\"Graphs/distribucijaPoObčinah.png\">"
   ]
  },
  {
   "cell_type": "markdown",
   "metadata": {},
   "source": [
    "Sedaj pa si še poglejmo, če se razporeditev našega grafa prilega kateri izmed bolj znanih porazdelitev."
   ]
  },
  {
   "cell_type": "markdown",
   "metadata": {},
   "source": [
    "<img src=\"Graphs/graph-distribution.png\">"
   ]
  },
  {
   "cell_type": "markdown",
   "metadata": {},
   "source": [
    "<p><b><h3>3. Hipoteza: </h3></b>Predvidevamo da je imela občina Zavrč vedno manjšo prirast prebivalcev kakor občina Štore</p><p><b>Ugotovitve:</b></p> Naša hipoteza je bila ponovno napačna. Iz spodnjega grafa je razvidno, da sta si bili občini dokaj blizu po številu rasti/upada prebivalcev, vendar pa je prišlo do drastične spremembe med letoma 2017 in 2018."
   ]
  },
  {
   "cell_type": "markdown",
   "metadata": {},
   "source": [
    "<img src=\"Graphs/primerjavaTopWorest.png\">"
   ]
  },
  {
   "cell_type": "markdown",
   "metadata": {},
   "source": [
    "Poglejmo si še sestavo prebivalstva v teh dveh občinah, zraven pa je še občina Ljubljana, zgolj kot zanimivost."
   ]
  },
  {
   "cell_type": "markdown",
   "metadata": {},
   "source": [
    "![Screenshot of GUI](izobrazba.PNG)"
   ]
  },
  {
   "cell_type": "markdown",
   "metadata": {},
   "source": [
    "Opazimo da je sestava prebivalstva v občinah, ki jih natančneje opazujemo dokaj podobna. Zakaj Ljubljana tako močno odstopa, pa je ponovno zanimivo vprašanje, v katerega pa se v okviru te seminarske naloge ne bomo poglabljali. Sedaj pa poiščimo občine, ki imajo podobno zgodovino rasti in upadanja prebivalstva. Te podatke smo pridobili z gručenjem, kjer smo računali evklidovo razdaljo med povprečjem skupin."
   ]
  },
  {
   "cell_type": "markdown",
   "metadata": {},
   "source": [
    "<img src=\"Graphs/treeClustering.png\">"
   ]
  },
  {
   "cell_type": "markdown",
   "metadata": {},
   "source": [
    "<p><b><h3>4. Hipoteza: </h3></b>Predvidevamo da večina ljudi iz manjših občin obiskuje službo v večjih mestih</p><p><b>Ugotovitve:</b></p> Tokrat je bila naša ugotovitev pravilna. Iz spodnje animacije se vidi, da so prav občine ob okolici večjih mest obarvane z rdečo barvo. To pomeni da več kakor 50% ljudi hodi v službo v druge občine. V vseh občinah , ki so obarvane zeleno, je število zaposlenih v občini večje od števila prebivalcev, ki jih občina ima."
   ]
  },
  {
   "cell_type": "markdown",
   "metadata": {},
   "source": [
    "<img src=\"Graphs/odstotekZaposlenihGledeNaPrebivalstvo.gif\">"
   ]
  },
  {
   "cell_type": "markdown",
   "metadata": {},
   "source": [
    "<p><b><h3>Zaključek: </h3></b>TODO</p><p>"
   ]
  }
 ],
 "metadata": {
  "kernelspec": {
   "display_name": "Python 3",
   "language": "python",
   "name": "python3"
  },
  "language_info": {
   "codemirror_mode": {
    "name": "ipython",
    "version": 3
   },
   "file_extension": ".py",
   "mimetype": "text/x-python",
   "name": "python",
   "nbconvert_exporter": "python",
   "pygments_lexer": "ipython3",
   "version": "3.7.4"
  }
 },
 "nbformat": 4,
 "nbformat_minor": 2
}
