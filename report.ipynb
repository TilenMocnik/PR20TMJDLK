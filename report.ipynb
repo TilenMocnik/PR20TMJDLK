{
 "cells": [
  {
   "cell_type": "markdown",
   "metadata": {},
   "source": [
    "<h1>Prebivalstvo Slovenije - PR2020TMJDLK</h1>"
   ]
  },
  {
   "cell_type": "markdown",
   "metadata": {},
   "source": [
    "<h2>Avtorji</h2> \n",
    "<ul><li>Tilen Močnik</li>\n",
    "    <li>Jan Debelak</li>\n",
    "    <li>Lukas Kranjc</li></ul>"
   ]
  },
  {
   "cell_type": "markdown",
   "metadata": {},
   "source": [
    "<h2>Uvod in predstavitev podatkov</h2>"
   ]
  },
  {
   "cell_type": "markdown",
   "metadata": {},
   "source": [
    "Za seminarsko nalogo smo si izbrali temo \"Prebivalstvo Slovenije\". Iz podatkov smo poskušali ugotoviti predvsem v katerih občinah prebivalstvo pada/narašča, kaj povzroči padanje/naraščanje prebivalstva, kakšna je sestava prebivalstva glede na izobrazbo ipd. Podatke smo pridobili na spletnem portalu OPSI(https://podatki.gov.si/). Za našo seminarsko nalogo smo pridobili naslednje podatke:\n",
    "<ul><li>Podatki o številu prebivalcev po posameznih občinah med leti 1995-2018</li>\n",
    "    <li>Podatki, ki za posamezno občino določajo indeks glede na št.zaposlenih/št.vseh prebivalcev</li>\n",
    "    <li>Podatki o sestavi prebivalstva glede na izobrazbo po posameznih občinah</li></ul>\n",
    "Za nekatere od zgoraj naštetih podatkov smo imeli na voljo celo več tabel, vendar smo med samim pregledom določili, katere podatkovne tabele vsebujejo za naš projekt primernejše podatke, tako po vsebini, kakor tudi po sami obliki zapisa. Vse izbrane tabele podatkov smo nato temeljito prečistili, ter spravili v primerno obliko za nadaljno obdelavo. Nekaj težav smo imeli z šumniki, vendar smo težavo odpravili z uporabo pravilnega kodiranja(UTF-8). Kljub pretvorbi podatkov v kodiranje primerno za šumnike, pa smo bili v nekaterih tabelah primorani spreminjati imena občin ročno."
   ]
  },
  {
   "cell_type": "markdown",
   "metadata": {},
   "source": [
    "<h2>Hipoteze in ugotovitve</h2>"
   ]
  },
  {
   "cell_type": "code",
   "execution_count": null,
   "metadata": {},
   "outputs": [],
   "source": []
  }
 ],
 "metadata": {
  "kernelspec": {
   "display_name": "Python 3",
   "language": "python",
   "name": "python3"
  },
  "language_info": {
   "codemirror_mode": {
    "name": "ipython",
    "version": 3
   },
   "file_extension": ".py",
   "mimetype": "text/x-python",
   "name": "python",
   "nbconvert_exporter": "python",
   "pygments_lexer": "ipython3",
   "version": "3.7.4"
  }
 },
 "nbformat": 4,
 "nbformat_minor": 2
}
