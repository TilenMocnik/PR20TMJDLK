{
 "cells": [
  {
   "cell_type": "markdown",
   "metadata": {},
   "source": [
        "Vidimo, da so prve na padajoče urejenem seznamu občin Cerklje na Gorenjskem, ki s 1438.7 € za skoraj 250 € vodijo drugo najboljšo občino po višini povprečne plače - Ljubljano. Pogledamo še, kako so se plače v najbolj zanimivih, torej prvih šestih občinah, spreminjale z leti.\n",
    "\n",
    "![alt text](Graphs/izobrazba.png \"Title\")"
   ]
  }
 ],
 "metadata": {
  "kernelspec": {
   "display_name": "Python 3",
   "language": "python",
   "name": "python3"
  },
  "language_info": {
   "codemirror_mode": {
    "name": "ipython",
    "version": 3
   },
   "file_extension": ".py",
   "mimetype": "text/x-python",
   "name": "python",
   "nbconvert_exporter": "python",
   "pygments_lexer": "ipython3",
   "version": "3.7.4"
  }
 },
 "nbformat": 4,
 "nbformat_minor": 2
}
